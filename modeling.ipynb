{
 "cells": [
  {
   "cell_type": "code",
   "execution_count": null,
   "id": "c04e4d09-b920-4c7f-9a24-aaf1a3efac36",
   "metadata": {},
   "outputs": [],
   "source": [
    "!pip install lemmagen3\n",
    "!pip install  bertopic==0.16.1"
   ]
  },
  {
   "cell_type": "code",
   "execution_count": null,
   "id": "b7d8cd0d-beeb-4cef-b3fe-75dc4d366939",
   "metadata": {},
   "outputs": [],
   "source": [
    "from bertopic import BERTopic\n",
    "from umap import UMAP\n",
    "import pandas as pd\n",
    "import numpy as np\n",
    "from sklearn.feature_extraction.text import CountVectorizer\n",
    "from lemmagen3 import Lemmatizer\n",
    "import re"
   ]
  },
  {
   "cell_type": "code",
   "execution_count": null,
   "id": "80b081c5-b894-416e-81bd-a37817efc04d",
   "metadata": {},
   "outputs": [],
   "source": [
    "df = pd.read_csv(\"/home/paula/Documents/exchange/MatRac/IJS/Corpus.csv\")\n",
    "df = df.fillna('')\n",
    "docs = df['clean']"
   ]
  },
  {
   "cell_type": "code",
   "execution_count": null,
   "id": "27c699fd-5466-4ec5-bc6e-e9928527066c",
   "metadata": {},
   "outputs": [],
   "source": [
    "bge_emb = np.load('bge_m3.npy')\n",
    "sloberta_emb = np.load('sloberta.npy')\n",
    "multi_e5 = np.load('multi_e5.npy')"
   ]
  },
  {
   "cell_type": "code",
   "execution_count": null,
   "id": "1c29d9fa",
   "metadata": {},
   "outputs": [],
   "source": [
    "len(bge_emb)"
   ]
  },
  {
   "cell_type": "code",
   "execution_count": null,
   "id": "5bcb1459",
   "metadata": {},
   "outputs": [],
   "source": [
    "len(sloberta_emb)"
   ]
  },
  {
   "cell_type": "code",
   "execution_count": null,
   "id": "b89bcd37",
   "metadata": {},
   "outputs": [],
   "source": [
    "len(multi_e5)"
   ]
  },
  {
   "cell_type": "code",
   "execution_count": null,
   "id": "f47620e3-c178-40d5-b6cf-d87f4d412afd",
   "metadata": {},
   "outputs": [],
   "source": [
    "lemmatizer = Lemmatizer('sl')\n",
    "\n",
    "def lemmatize_text(text):\n",
    "    words = re.findall(r'\\b\\w+\\b', text.lower())\n",
    "    lemmatized_words = [lemmatizer.lemmatize(word) for word in words]\n",
    "    #print(lemmatized_words)\n",
    "    return lemmatized_words"
   ]
  },
  {
   "cell_type": "code",
   "execution_count": null,
   "id": "43076fb1-5633-490b-a7be-96d8fc8644bf",
   "metadata": {},
   "outputs": [],
   "source": [
    "from bertopic import BERTopic\n",
    "from sklearn.feature_extraction.text import CountVectorizer"
   ]
  },
  {
   "cell_type": "code",
   "execution_count": null,
   "id": "1fd5afc5-a1c2-4654-ab6c-3ba0d1295be7",
   "metadata": {},
   "outputs": [],
   "source": [
    "umap_model = UMAP(n_neighbors=15, n_components=5, min_dist=0.0, metric='cosine', random_state=1234)\n",
    "vectorizer_model = CountVectorizer(tokenizer=lemmatize_text)"
   ]
  },
  {
   "cell_type": "code",
   "execution_count": null,
   "id": "2d4d5457-c794-4622-8319-ede18c868d83",
   "metadata": {},
   "outputs": [],
   "source": [
    "## BGEM3"
   ]
  },
  {
   "cell_type": "code",
   "execution_count": null,
   "id": "b53b7a48-3733-4f5e-bb79-41b8ab6ec857",
   "metadata": {},
   "outputs": [],
   "source": [
    "topic_model_bge =  BERTopic(umap_model = umap_model, vectorizer_model=vectorizer_model)\n",
    "topics_bge, probs_bge = topic_model_bge.fit_transform(docs, bge_emb)"
   ]
  },
  {
   "cell_type": "code",
   "execution_count": null,
   "id": "0d4e8b05-2fbb-44f2-a8ec-1860807e4351",
   "metadata": {},
   "outputs": [],
   "source": [
    "topic_model_bge.visualize_barchart(top_n_topics=15, n_words=10)"
   ]
  },
  {
   "cell_type": "code",
   "execution_count": null,
   "id": "80ed9d03",
   "metadata": {},
   "outputs": [],
   "source": [
    "topic_model_bge.visualize_topics()"
   ]
  },
  {
   "cell_type": "code",
   "execution_count": null,
   "id": "edccbd32",
   "metadata": {},
   "outputs": [],
   "source": [
    "topics_over_time_bge = topic_model_bge.topics_over_time(df[\"clean\"], df[\"year\"])"
   ]
  },
  {
   "cell_type": "code",
   "execution_count": null,
   "id": "24ae8df3",
   "metadata": {},
   "outputs": [],
   "source": [
    "topic_model_bge.visualize_topics_over_time(topics_over_time_bge)"
   ]
  },
  {
   "cell_type": "code",
   "execution_count": null,
   "id": "58df4108",
   "metadata": {},
   "outputs": [],
   "source": [
    "hierarchical_topics = topic_model_bge.hierarchical_topics(docs)"
   ]
  },
  {
   "cell_type": "code",
   "execution_count": null,
   "id": "b9ddeee5",
   "metadata": {
    "scrolled": false
   },
   "outputs": [],
   "source": [
    "topic_model_bge.visualize_hierarchy(hierarchical_topics=hierarchical_topics)"
   ]
  },
  {
   "cell_type": "code",
   "execution_count": null,
   "id": "55d1d371",
   "metadata": {
    "scrolled": false
   },
   "outputs": [],
   "source": [
    "fig = topic_model_bge.visualize_topics_over_time(topics_over_time_bge)\n",
    "fig.write_html(\"bge-timeline.html\")"
   ]
  },
  {
   "cell_type": "code",
   "execution_count": null,
   "id": "347ea876",
   "metadata": {},
   "outputs": [],
   "source": [
    "reps = topic_model_bge.get_topic_info()[\"Representation\"]"
   ]
  },
  {
   "cell_type": "code",
   "execution_count": null,
   "id": "b38cbff8",
   "metadata": {},
   "outputs": [],
   "source": [
    "reps[4]"
   ]
  },
  {
   "cell_type": "code",
   "execution_count": null,
   "id": "af36b490-d8a9-4133-b2cc-5d61c4639fc5",
   "metadata": {},
   "outputs": [],
   "source": [
    "## MultiE5"
   ]
  },
  {
   "cell_type": "code",
   "execution_count": null,
   "id": "c4ceca7f-f05d-46aa-871b-2bc19e07337c",
   "metadata": {},
   "outputs": [],
   "source": [
    "topic_model_e5 =  BERTopic(umap_model = umap_model, vectorizer_model=vectorizer_model)\n",
    "topics_e5, probs_e5 = topic_model_e5.fit_transform(docs, multi_e5)"
   ]
  },
  {
   "cell_type": "code",
   "execution_count": null,
   "id": "6ddfc232-3f4d-49cc-9466-348647fbda3c",
   "metadata": {},
   "outputs": [],
   "source": [
    "topic_model_e5.visualize_barchart(top_n_topics=16, n_words=10)"
   ]
  },
  {
   "cell_type": "code",
   "execution_count": null,
   "id": "93d4ecf6",
   "metadata": {},
   "outputs": [],
   "source": [
    "topic_model_e5.visualize_topics()"
   ]
  },
  {
   "cell_type": "code",
   "execution_count": null,
   "id": "b4de265c",
   "metadata": {},
   "outputs": [],
   "source": [
    "topics_over_time_e5 = topic_model_e5.topics_over_time(df[\"clean\"], df[\"year\"])"
   ]
  },
  {
   "cell_type": "code",
   "execution_count": null,
   "id": "6053ca5d",
   "metadata": {},
   "outputs": [],
   "source": [
    "topic_model_e5.visualize_topics_over_time(topics_over_time_e5)"
   ]
  },
  {
   "cell_type": "code",
   "execution_count": null,
   "id": "f2a9a8df-b9dc-4d3b-ae7f-bb3868750df3",
   "metadata": {},
   "outputs": [],
   "source": [
    "## SLOBERTA"
   ]
  },
  {
   "cell_type": "code",
   "execution_count": null,
   "id": "2211ec4d-61cc-47c5-97b0-fcc6d3c1787d",
   "metadata": {},
   "outputs": [],
   "source": [
    "topic_slo =  BERTopic(umap_model = umap_model, vectorizer_model=vectorizer_model)\n",
    "topics_slo, probs_slo = topic_slo.fit_transform(docs, sloberta_emb)"
   ]
  },
  {
   "cell_type": "code",
   "execution_count": null,
   "id": "24893326-a88c-4ef1-aa03-054d80139b88",
   "metadata": {},
   "outputs": [],
   "source": [
    "topic_slo.visualize_barchart()"
   ]
  },
  {
   "cell_type": "code",
   "execution_count": null,
   "id": "59e27e19",
   "metadata": {},
   "outputs": [],
   "source": [
    "topic_slo.visualize_topics()"
   ]
  },
  {
   "cell_type": "code",
   "execution_count": null,
   "id": "5229d638",
   "metadata": {},
   "outputs": [],
   "source": [
    "topics_over_time_slo = topic_slo.topics_over_time(df[\"clean\"], df[\"year\"])"
   ]
  },
  {
   "cell_type": "code",
   "execution_count": null,
   "id": "63ca194c",
   "metadata": {},
   "outputs": [],
   "source": [
    "topic_slo.visualize_topics_over_time(topics_over_time_slo)"
   ]
  },
  {
   "cell_type": "code",
   "execution_count": null,
   "id": "9109d4c1",
   "metadata": {},
   "outputs": [],
   "source": []
  },
  {
   "cell_type": "code",
   "execution_count": null,
   "id": "f4063837",
   "metadata": {},
   "outputs": [],
   "source": []
  },
  {
   "cell_type": "code",
   "execution_count": null,
   "id": "aa330ce9",
   "metadata": {},
   "outputs": [],
   "source": [
    "##NO NEED TO THIS NEXT ONE"
   ]
  },
  {
   "cell_type": "code",
   "execution_count": null,
   "id": "53579bbb-cd8f-424d-93d6-111c30346455",
   "metadata": {},
   "outputs": [],
   "source": [
    "topic_slo_no_vec =  BERTopic(umap_model = umap_model)\n",
    "topics_slo_nv, probs_slo_nv = topic_slo_no_vec.fit_transform(docs, sloberta_emb)"
   ]
  },
  {
   "cell_type": "code",
   "execution_count": null,
   "id": "5c402705-b91d-43c0-9a28-3e3d95c3af55",
   "metadata": {},
   "outputs": [],
   "source": [
    "topic_slo_no_vec.visualize_barchart()"
   ]
  },
  {
   "cell_type": "code",
   "execution_count": null,
   "id": "d9176421",
   "metadata": {},
   "outputs": [],
   "source": [
    "topic_slo_no_vec.visualize_topics()"
   ]
  },
  {
   "cell_type": "code",
   "execution_count": null,
   "id": "fd7ed170",
   "metadata": {},
   "outputs": [],
   "source": [
    "topics_over_time_slo_no_vec = topic_slo_no_vec.topics_over_time(df[\"clean\"], df[\"year\"])"
   ]
  },
  {
   "cell_type": "code",
   "execution_count": null,
   "id": "9180fd10",
   "metadata": {},
   "outputs": [],
   "source": [
    "topic_slo_no_vec.visualize_topics_over_time(topics_over_time_slo_no_vec)"
   ]
  },
  {
   "cell_type": "code",
   "execution_count": null,
   "id": "e31b7ed7",
   "metadata": {},
   "outputs": [],
   "source": []
  }
 ],
 "metadata": {
  "kernelspec": {
   "display_name": "Python 3 (ipykernel)",
   "language": "python",
   "name": "python3"
  },
  "language_info": {
   "codemirror_mode": {
    "name": "ipython",
    "version": 3
   },
   "file_extension": ".py",
   "mimetype": "text/x-python",
   "name": "python",
   "nbconvert_exporter": "python",
   "pygments_lexer": "ipython3",
   "version": "3.10.4"
  }
 },
 "nbformat": 4,
 "nbformat_minor": 5
}
