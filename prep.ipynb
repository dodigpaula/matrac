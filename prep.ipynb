{
 "cells": [
  {
   "cell_type": "code",
   "execution_count": 1,
   "id": "23a2193c",
   "metadata": {
    "scrolled": true
   },
   "outputs": [
    {
     "name": "stdout",
     "output_type": "stream",
     "text": [
      "Requirement already satisfied: bertopic in /home/paula/anaconda3/envs/new/lib/python3.10/site-packages (0.16.1)\n",
      "Requirement already satisfied: hdbscan>=0.8.29 in /home/paula/anaconda3/envs/new/lib/python3.10/site-packages (from bertopic) (0.8.29)\n",
      "Requirement already satisfied: sentence-transformers>=0.4.1 in /home/paula/anaconda3/envs/new/lib/python3.10/site-packages (from bertopic) (2.7.0)\n",
      "Requirement already satisfied: plotly>=4.7.0 in /home/paula/anaconda3/envs/new/lib/python3.10/site-packages (from bertopic) (5.15.0)\n",
      "Requirement already satisfied: umap-learn>=0.5.0 in /home/paula/anaconda3/envs/new/lib/python3.10/site-packages (from bertopic) (0.5.3)\n",
      "Requirement already satisfied: numpy>=1.20.0 in /home/paula/anaconda3/envs/new/lib/python3.10/site-packages (from bertopic) (1.23.0)\n",
      "Requirement already satisfied: pandas>=1.1.5 in /home/paula/anaconda3/envs/new/lib/python3.10/site-packages (from bertopic) (1.3.3)\n",
      "Requirement already satisfied: scikit-learn>=0.22.2.post1 in /home/paula/anaconda3/envs/new/lib/python3.10/site-packages (from bertopic) (1.0)\n",
      "Requirement already satisfied: tqdm>=4.41.1 in /home/paula/anaconda3/envs/new/lib/python3.10/site-packages (from bertopic) (4.62.3)\n",
      "Requirement already satisfied: scipy>=1.0 in /home/paula/anaconda3/envs/new/lib/python3.10/site-packages (from hdbscan>=0.8.29->bertopic) (1.10.1)\n",
      "Requirement already satisfied: joblib>=1.0 in /home/paula/anaconda3/envs/new/lib/python3.10/site-packages (from hdbscan>=0.8.29->bertopic) (1.2.0)\n",
      "Requirement already satisfied: cython>=0.27 in /home/paula/anaconda3/envs/new/lib/python3.10/site-packages (from hdbscan>=0.8.29->bertopic) (0.29.35)\n",
      "Requirement already satisfied: pytz>=2017.3 in /home/paula/anaconda3/envs/new/lib/python3.10/site-packages (from pandas>=1.1.5->bertopic) (2022.1)\n",
      "Requirement already satisfied: python-dateutil>=2.7.3 in /home/paula/anaconda3/envs/new/lib/python3.10/site-packages (from pandas>=1.1.5->bertopic) (2.8.2)\n",
      "Requirement already satisfied: packaging in /home/paula/anaconda3/envs/new/lib/python3.10/site-packages (from plotly>=4.7.0->bertopic) (22.0)\n",
      "Requirement already satisfied: tenacity>=6.2.0 in /home/paula/anaconda3/envs/new/lib/python3.10/site-packages (from plotly>=4.7.0->bertopic) (8.2.2)\n",
      "Requirement already satisfied: six>=1.5 in /home/paula/anaconda3/envs/new/lib/python3.10/site-packages (from python-dateutil>=2.7.3->pandas>=1.1.5->bertopic) (1.16.0)\n",
      "Requirement already satisfied: threadpoolctl>=2.0.0 in /home/paula/anaconda3/envs/new/lib/python3.10/site-packages (from scikit-learn>=0.22.2.post1->bertopic) (3.1.0)\n",
      "Requirement already satisfied: huggingface-hub>=0.15.1 in /home/paula/anaconda3/envs/new/lib/python3.10/site-packages (from sentence-transformers>=0.4.1->bertopic) (0.21.4)\n",
      "Requirement already satisfied: transformers<5.0.0,>=4.34.0 in /home/paula/anaconda3/envs/new/lib/python3.10/site-packages (from sentence-transformers>=0.4.1->bertopic) (4.38.2)\n",
      "Requirement already satisfied: torch>=1.11.0 in /home/paula/anaconda3/envs/new/lib/python3.10/site-packages (from sentence-transformers>=0.4.1->bertopic) (1.12.0)\n",
      "Requirement already satisfied: Pillow in /home/paula/anaconda3/envs/new/lib/python3.10/site-packages (from sentence-transformers>=0.4.1->bertopic) (9.4.0)\n",
      "Requirement already satisfied: fsspec>=2023.5.0 in /home/paula/anaconda3/envs/new/lib/python3.10/site-packages (from huggingface-hub>=0.15.1->sentence-transformers>=0.4.1->bertopic) (2023.6.0)\n",
      "Requirement already satisfied: pyyaml>=5.1 in /home/paula/anaconda3/envs/new/lib/python3.10/site-packages (from huggingface-hub>=0.15.1->sentence-transformers>=0.4.1->bertopic) (6.0)\n",
      "Requirement already satisfied: requests in /home/paula/anaconda3/envs/new/lib/python3.10/site-packages (from huggingface-hub>=0.15.1->sentence-transformers>=0.4.1->bertopic) (2.28.0)\n",
      "Requirement already satisfied: filelock in /home/paula/anaconda3/envs/new/lib/python3.10/site-packages (from huggingface-hub>=0.15.1->sentence-transformers>=0.4.1->bertopic) (3.9.0)\n",
      "Requirement already satisfied: typing-extensions>=3.7.4.3 in /home/paula/anaconda3/envs/new/lib/python3.10/site-packages (from huggingface-hub>=0.15.1->sentence-transformers>=0.4.1->bertopic) (4.1.1)\n",
      "Requirement already satisfied: tokenizers<0.19,>=0.14 in /home/paula/anaconda3/envs/new/lib/python3.10/site-packages (from transformers<5.0.0,>=4.34.0->sentence-transformers>=0.4.1->bertopic) (0.15.2)\n",
      "Requirement already satisfied: safetensors>=0.4.1 in /home/paula/anaconda3/envs/new/lib/python3.10/site-packages (from transformers<5.0.0,>=4.34.0->sentence-transformers>=0.4.1->bertopic) (0.4.2)\n",
      "Requirement already satisfied: regex!=2019.12.17 in /home/paula/.local/lib/python3.10/site-packages (from transformers<5.0.0,>=4.34.0->sentence-transformers>=0.4.1->bertopic) (2022.4.24)\n",
      "Requirement already satisfied: numba>=0.49 in /home/paula/anaconda3/envs/new/lib/python3.10/site-packages (from umap-learn>=0.5.0->bertopic) (0.57.0)\n",
      "Requirement already satisfied: pynndescent>=0.5 in /home/paula/anaconda3/envs/new/lib/python3.10/site-packages (from umap-learn>=0.5.0->bertopic) (0.5.10)\n",
      "Requirement already satisfied: llvmlite<0.41,>=0.40.0dev0 in /home/paula/anaconda3/envs/new/lib/python3.10/site-packages (from numba>=0.49->umap-learn>=0.5.0->bertopic) (0.40.1rc1)\n",
      "Requirement already satisfied: idna<4,>=2.5 in /home/paula/anaconda3/envs/new/lib/python3.10/site-packages (from requests->huggingface-hub>=0.15.1->sentence-transformers>=0.4.1->bertopic) (3.4)\n",
      "Requirement already satisfied: charset-normalizer~=2.0.0 in /home/paula/anaconda3/envs/new/lib/python3.10/site-packages (from requests->huggingface-hub>=0.15.1->sentence-transformers>=0.4.1->bertopic) (2.0.12)\n",
      "Requirement already satisfied: urllib3<1.27,>=1.21.1 in /home/paula/anaconda3/envs/new/lib/python3.10/site-packages (from requests->huggingface-hub>=0.15.1->sentence-transformers>=0.4.1->bertopic) (1.26.13)\n",
      "Requirement already satisfied: certifi>=2017.4.17 in /home/paula/anaconda3/envs/new/lib/python3.10/site-packages (from requests->huggingface-hub>=0.15.1->sentence-transformers>=0.4.1->bertopic) (2022.12.7)\n",
      "Requirement already satisfied: FlagEmbedding in /home/paula/anaconda3/envs/new/lib/python3.10/site-packages (1.2.8)\n",
      "Collecting FlagEmbedding\n",
      "  Downloading FlagEmbedding-1.2.10.tar.gz (141 kB)\n",
      "\u001b[K     |████████████████████████████████| 141 kB 3.1 MB/s eta 0:00:01\n",
      "\u001b[?25hRequirement already satisfied: torch>=1.6.0 in /home/paula/anaconda3/envs/new/lib/python3.10/site-packages (from FlagEmbedding) (1.12.0)\n",
      "Requirement already satisfied: transformers>=4.33.0 in /home/paula/anaconda3/envs/new/lib/python3.10/site-packages (from FlagEmbedding) (4.38.2)\n",
      "Requirement already satisfied: datasets in /home/paula/anaconda3/envs/new/lib/python3.10/site-packages (from FlagEmbedding) (2.18.0)\n",
      "Requirement already satisfied: accelerate>=0.20.1 in /home/paula/anaconda3/envs/new/lib/python3.10/site-packages (from FlagEmbedding) (0.28.0)\n",
      "Requirement already satisfied: sentence_transformers in /home/paula/anaconda3/envs/new/lib/python3.10/site-packages (from FlagEmbedding) (2.7.0)\n",
      "Requirement already satisfied: huggingface-hub in /home/paula/anaconda3/envs/new/lib/python3.10/site-packages (from accelerate>=0.20.1->FlagEmbedding) (0.21.4)\n",
      "Requirement already satisfied: safetensors>=0.3.1 in /home/paula/anaconda3/envs/new/lib/python3.10/site-packages (from accelerate>=0.20.1->FlagEmbedding) (0.4.2)\n",
      "Requirement already satisfied: packaging>=20.0 in /home/paula/anaconda3/envs/new/lib/python3.10/site-packages (from accelerate>=0.20.1->FlagEmbedding) (22.0)\n",
      "Requirement already satisfied: pyyaml in /home/paula/anaconda3/envs/new/lib/python3.10/site-packages (from accelerate>=0.20.1->FlagEmbedding) (6.0)\n",
      "Requirement already satisfied: psutil in /home/paula/anaconda3/envs/new/lib/python3.10/site-packages (from accelerate>=0.20.1->FlagEmbedding) (5.9.8)\n",
      "Requirement already satisfied: numpy>=1.17 in /home/paula/anaconda3/envs/new/lib/python3.10/site-packages (from accelerate>=0.20.1->FlagEmbedding) (1.23.0)\n",
      "Requirement already satisfied: typing-extensions in /home/paula/anaconda3/envs/new/lib/python3.10/site-packages (from torch>=1.6.0->FlagEmbedding) (4.1.1)\n",
      "Requirement already satisfied: filelock in /home/paula/anaconda3/envs/new/lib/python3.10/site-packages (from transformers>=4.33.0->FlagEmbedding) (3.9.0)\n",
      "Requirement already satisfied: regex!=2019.12.17 in /home/paula/.local/lib/python3.10/site-packages (from transformers>=4.33.0->FlagEmbedding) (2022.4.24)\n",
      "Requirement already satisfied: requests in /home/paula/anaconda3/envs/new/lib/python3.10/site-packages (from transformers>=4.33.0->FlagEmbedding) (2.28.0)\n",
      "Requirement already satisfied: tqdm>=4.27 in /home/paula/anaconda3/envs/new/lib/python3.10/site-packages (from transformers>=4.33.0->FlagEmbedding) (4.62.3)\n",
      "Requirement already satisfied: tokenizers<0.19,>=0.14 in /home/paula/anaconda3/envs/new/lib/python3.10/site-packages (from transformers>=4.33.0->FlagEmbedding) (0.15.2)\n"
     ]
    },
    {
     "name": "stdout",
     "output_type": "stream",
     "text": [
      "Requirement already satisfied: fsspec>=2023.5.0 in /home/paula/anaconda3/envs/new/lib/python3.10/site-packages (from huggingface-hub->accelerate>=0.20.1->FlagEmbedding) (2023.6.0)\n",
      "Requirement already satisfied: pandas in /home/paula/anaconda3/envs/new/lib/python3.10/site-packages (from datasets->FlagEmbedding) (1.3.3)\n",
      "Requirement already satisfied: pyarrow-hotfix in /home/paula/anaconda3/envs/new/lib/python3.10/site-packages (from datasets->FlagEmbedding) (0.6)\n",
      "Requirement already satisfied: pyarrow>=12.0.0 in /home/paula/anaconda3/envs/new/lib/python3.10/site-packages (from datasets->FlagEmbedding) (15.0.2)\n",
      "Requirement already satisfied: dill<0.3.9,>=0.3.0 in /home/paula/anaconda3/envs/new/lib/python3.10/site-packages (from datasets->FlagEmbedding) (0.3.8)\n",
      "Requirement already satisfied: aiohttp in /home/paula/anaconda3/envs/new/lib/python3.10/site-packages (from datasets->FlagEmbedding) (3.9.3)\n",
      "Requirement already satisfied: multiprocess in /home/paula/anaconda3/envs/new/lib/python3.10/site-packages (from datasets->FlagEmbedding) (0.70.16)\n",
      "Requirement already satisfied: xxhash in /home/paula/anaconda3/envs/new/lib/python3.10/site-packages (from datasets->FlagEmbedding) (3.4.1)\n",
      "Requirement already satisfied: async-timeout<5.0,>=4.0 in /home/paula/anaconda3/envs/new/lib/python3.10/site-packages (from aiohttp->datasets->FlagEmbedding) (4.0.3)\n",
      "Requirement already satisfied: multidict<7.0,>=4.5 in /home/paula/anaconda3/envs/new/lib/python3.10/site-packages (from aiohttp->datasets->FlagEmbedding) (6.0.5)\n",
      "Requirement already satisfied: yarl<2.0,>=1.0 in /home/paula/anaconda3/envs/new/lib/python3.10/site-packages (from aiohttp->datasets->FlagEmbedding) (1.9.4)\n",
      "Requirement already satisfied: frozenlist>=1.1.1 in /home/paula/anaconda3/envs/new/lib/python3.10/site-packages (from aiohttp->datasets->FlagEmbedding) (1.4.1)\n",
      "Requirement already satisfied: aiosignal>=1.1.2 in /home/paula/anaconda3/envs/new/lib/python3.10/site-packages (from aiohttp->datasets->FlagEmbedding) (1.3.1)\n",
      "Requirement already satisfied: attrs>=17.3.0 in /home/paula/anaconda3/envs/new/lib/python3.10/site-packages (from aiohttp->datasets->FlagEmbedding) (21.4.0)\n",
      "Requirement already satisfied: charset-normalizer~=2.0.0 in /home/paula/anaconda3/envs/new/lib/python3.10/site-packages (from requests->transformers>=4.33.0->FlagEmbedding) (2.0.12)\n",
      "Requirement already satisfied: idna<4,>=2.5 in /home/paula/anaconda3/envs/new/lib/python3.10/site-packages (from requests->transformers>=4.33.0->FlagEmbedding) (3.4)\n",
      "Requirement already satisfied: certifi>=2017.4.17 in /home/paula/anaconda3/envs/new/lib/python3.10/site-packages (from requests->transformers>=4.33.0->FlagEmbedding) (2022.12.7)\n",
      "Requirement already satisfied: urllib3<1.27,>=1.21.1 in /home/paula/anaconda3/envs/new/lib/python3.10/site-packages (from requests->transformers>=4.33.0->FlagEmbedding) (1.26.13)\n",
      "Requirement already satisfied: pytz>=2017.3 in /home/paula/anaconda3/envs/new/lib/python3.10/site-packages (from pandas->datasets->FlagEmbedding) (2022.1)\n",
      "Requirement already satisfied: python-dateutil>=2.7.3 in /home/paula/anaconda3/envs/new/lib/python3.10/site-packages (from pandas->datasets->FlagEmbedding) (2.8.2)\n",
      "Requirement already satisfied: six>=1.5 in /home/paula/anaconda3/envs/new/lib/python3.10/site-packages (from python-dateutil>=2.7.3->pandas->datasets->FlagEmbedding) (1.16.0)\n",
      "Requirement already satisfied: scikit-learn in /home/paula/anaconda3/envs/new/lib/python3.10/site-packages (from sentence_transformers->FlagEmbedding) (1.0)\n",
      "Requirement already satisfied: Pillow in /home/paula/anaconda3/envs/new/lib/python3.10/site-packages (from sentence_transformers->FlagEmbedding) (9.4.0)\n",
      "Requirement already satisfied: scipy in /home/paula/anaconda3/envs/new/lib/python3.10/site-packages (from sentence_transformers->FlagEmbedding) (1.10.1)\n",
      "Requirement already satisfied: threadpoolctl>=2.0.0 in /home/paula/anaconda3/envs/new/lib/python3.10/site-packages (from scikit-learn->sentence_transformers->FlagEmbedding) (3.1.0)\n",
      "Requirement already satisfied: joblib>=0.11 in /home/paula/anaconda3/envs/new/lib/python3.10/site-packages (from scikit-learn->sentence_transformers->FlagEmbedding) (1.2.0)\n",
      "Building wheels for collected packages: FlagEmbedding\n",
      "  Building wheel for FlagEmbedding (setup.py) ... \u001b[?25ldone\n",
      "\u001b[?25h  Created wheel for FlagEmbedding: filename=FlagEmbedding-1.2.10-py3-none-any.whl size=166120 sha256=548a545a5370e732d93381bc4f1999984df8aa8528a36ad1b32af22c21a0d305\n",
      "  Stored in directory: /home/paula/.cache/pip/wheels/3b/1d/d2/eec38cd59144f4c9767d7c55cfae8e8feec699071aa41ca5da\n",
      "Successfully built FlagEmbedding\n",
      "Installing collected packages: FlagEmbedding\n",
      "  Attempting uninstall: FlagEmbedding\n",
      "    Found existing installation: FlagEmbedding 1.2.8\n",
      "    Uninstalling FlagEmbedding-1.2.8:\n",
      "      Successfully uninstalled FlagEmbedding-1.2.8\n",
      "Successfully installed FlagEmbedding-1.2.10\n",
      "Requirement already satisfied: sentence-transformers in /home/paula/anaconda3/envs/new/lib/python3.10/site-packages (2.7.0)\n",
      "Collecting sentence-transformers\n",
      "  Downloading sentence_transformers-3.0.0-py3-none-any.whl (224 kB)\n",
      "\u001b[K     |████████████████████████████████| 224 kB 2.9 MB/s eta 0:00:01\n",
      "\u001b[?25hRequirement already satisfied: scipy in /home/paula/anaconda3/envs/new/lib/python3.10/site-packages (from sentence-transformers) (1.10.1)\n",
      "Requirement already satisfied: torch>=1.11.0 in /home/paula/anaconda3/envs/new/lib/python3.10/site-packages (from sentence-transformers) (1.12.0)\n",
      "Requirement already satisfied: huggingface-hub>=0.15.1 in /home/paula/anaconda3/envs/new/lib/python3.10/site-packages (from sentence-transformers) (0.21.4)\n",
      "Requirement already satisfied: numpy in /home/paula/anaconda3/envs/new/lib/python3.10/site-packages (from sentence-transformers) (1.23.0)\n",
      "Requirement already satisfied: scikit-learn in /home/paula/anaconda3/envs/new/lib/python3.10/site-packages (from sentence-transformers) (1.0)\n",
      "Requirement already satisfied: transformers<5.0.0,>=4.34.0 in /home/paula/anaconda3/envs/new/lib/python3.10/site-packages (from sentence-transformers) (4.38.2)\n",
      "Requirement already satisfied: tqdm in /home/paula/anaconda3/envs/new/lib/python3.10/site-packages (from sentence-transformers) (4.62.3)\n",
      "Requirement already satisfied: Pillow in /home/paula/anaconda3/envs/new/lib/python3.10/site-packages (from sentence-transformers) (9.4.0)\n",
      "Requirement already satisfied: requests in /home/paula/anaconda3/envs/new/lib/python3.10/site-packages (from huggingface-hub>=0.15.1->sentence-transformers) (2.28.0)\n",
      "Requirement already satisfied: filelock in /home/paula/anaconda3/envs/new/lib/python3.10/site-packages (from huggingface-hub>=0.15.1->sentence-transformers) (3.9.0)\n",
      "Requirement already satisfied: packaging>=20.9 in /home/paula/anaconda3/envs/new/lib/python3.10/site-packages (from huggingface-hub>=0.15.1->sentence-transformers) (22.0)\n",
      "Requirement already satisfied: fsspec>=2023.5.0 in /home/paula/anaconda3/envs/new/lib/python3.10/site-packages (from huggingface-hub>=0.15.1->sentence-transformers) (2023.6.0)\n",
      "Requirement already satisfied: pyyaml>=5.1 in /home/paula/anaconda3/envs/new/lib/python3.10/site-packages (from huggingface-hub>=0.15.1->sentence-transformers) (6.0)\n",
      "Requirement already satisfied: typing-extensions>=3.7.4.3 in /home/paula/anaconda3/envs/new/lib/python3.10/site-packages (from huggingface-hub>=0.15.1->sentence-transformers) (4.1.1)\n",
      "Requirement already satisfied: regex!=2019.12.17 in /home/paula/.local/lib/python3.10/site-packages (from transformers<5.0.0,>=4.34.0->sentence-transformers) (2022.4.24)\n",
      "Requirement already satisfied: safetensors>=0.4.1 in /home/paula/anaconda3/envs/new/lib/python3.10/site-packages (from transformers<5.0.0,>=4.34.0->sentence-transformers) (0.4.2)\n",
      "Requirement already satisfied: tokenizers<0.19,>=0.14 in /home/paula/anaconda3/envs/new/lib/python3.10/site-packages (from transformers<5.0.0,>=4.34.0->sentence-transformers) (0.15.2)\n",
      "Requirement already satisfied: certifi>=2017.4.17 in /home/paula/anaconda3/envs/new/lib/python3.10/site-packages (from requests->huggingface-hub>=0.15.1->sentence-transformers) (2022.12.7)\n",
      "Requirement already satisfied: charset-normalizer~=2.0.0 in /home/paula/anaconda3/envs/new/lib/python3.10/site-packages (from requests->huggingface-hub>=0.15.1->sentence-transformers) (2.0.12)\n",
      "Requirement already satisfied: idna<4,>=2.5 in /home/paula/anaconda3/envs/new/lib/python3.10/site-packages (from requests->huggingface-hub>=0.15.1->sentence-transformers) (3.4)\n",
      "Requirement already satisfied: urllib3<1.27,>=1.21.1 in /home/paula/anaconda3/envs/new/lib/python3.10/site-packages (from requests->huggingface-hub>=0.15.1->sentence-transformers) (1.26.13)\n"
     ]
    },
    {
     "name": "stdout",
     "output_type": "stream",
     "text": [
      "Requirement already satisfied: threadpoolctl>=2.0.0 in /home/paula/anaconda3/envs/new/lib/python3.10/site-packages (from scikit-learn->sentence-transformers) (3.1.0)\n",
      "Requirement already satisfied: joblib>=0.11 in /home/paula/anaconda3/envs/new/lib/python3.10/site-packages (from scikit-learn->sentence-transformers) (1.2.0)\n",
      "Installing collected packages: sentence-transformers\n",
      "  Attempting uninstall: sentence-transformers\n",
      "    Found existing installation: sentence-transformers 2.7.0\n",
      "    Uninstalling sentence-transformers-2.7.0:\n",
      "      Successfully uninstalled sentence-transformers-2.7.0\n",
      "Successfully installed sentence-transformers-3.0.0\n"
     ]
    }
   ],
   "source": [
    "!pip install bertopic\n",
    "!pip install -U FlagEmbedding\n",
    "!pip install -U sentence-transformers"
   ]
  },
  {
   "cell_type": "code",
   "execution_count": 2,
   "id": "7a7fd859",
   "metadata": {},
   "outputs": [
    {
     "name": "stderr",
     "output_type": "stream",
     "text": [
      "/home/paula/anaconda3/envs/new/lib/python3.10/site-packages/requests/__init__.py:109: RequestsDependencyWarning: urllib3 (1.26.13) or chardet (5.2.0)/charset_normalizer (2.0.12) doesn't match a supported version!\n",
      "  warnings.warn(\n",
      "/home/paula/anaconda3/envs/new/lib/python3.10/site-packages/umap/distances.py:1063: NumbaDeprecationWarning: \u001b[1mThe 'nopython' keyword argument was not supplied to the 'numba.jit' decorator. The implicit default value for this argument is currently False, but it will be changed to True in Numba 0.59.0. See https://numba.readthedocs.io/en/stable/reference/deprecation.html#deprecation-of-object-mode-fall-back-behaviour-when-using-jit for details.\u001b[0m\n",
      "  @numba.jit()\n",
      "/home/paula/anaconda3/envs/new/lib/python3.10/site-packages/umap/distances.py:1071: NumbaDeprecationWarning: \u001b[1mThe 'nopython' keyword argument was not supplied to the 'numba.jit' decorator. The implicit default value for this argument is currently False, but it will be changed to True in Numba 0.59.0. See https://numba.readthedocs.io/en/stable/reference/deprecation.html#deprecation-of-object-mode-fall-back-behaviour-when-using-jit for details.\u001b[0m\n",
      "  @numba.jit()\n",
      "/home/paula/anaconda3/envs/new/lib/python3.10/site-packages/umap/distances.py:1086: NumbaDeprecationWarning: \u001b[1mThe 'nopython' keyword argument was not supplied to the 'numba.jit' decorator. The implicit default value for this argument is currently False, but it will be changed to True in Numba 0.59.0. See https://numba.readthedocs.io/en/stable/reference/deprecation.html#deprecation-of-object-mode-fall-back-behaviour-when-using-jit for details.\u001b[0m\n",
      "  @numba.jit()\n",
      "/home/paula/anaconda3/envs/new/lib/python3.10/site-packages/umap/umap_.py:660: NumbaDeprecationWarning: \u001b[1mThe 'nopython' keyword argument was not supplied to the 'numba.jit' decorator. The implicit default value for this argument is currently False, but it will be changed to True in Numba 0.59.0. See https://numba.readthedocs.io/en/stable/reference/deprecation.html#deprecation-of-object-mode-fall-back-behaviour-when-using-jit for details.\u001b[0m\n",
      "  @numba.jit()\n"
     ]
    }
   ],
   "source": [
    "import pandas as pd\n",
    "import numpy as np\n",
    "import random\n",
    "import matplotlib.pyplot as plt\n",
    "import nltk\n",
    "import re\n",
    "\n",
    "from sklearn.feature_extraction.text import CountVectorizer\n",
    "from nltk import word_tokenize\n",
    "from nltk.stem import WordNetLemmatizer\n",
    "\n",
    "from FlagEmbedding import BGEM3FlagModel\n",
    "from bertopic import BERTopic\n",
    "from umap import UMAP"
   ]
  },
  {
   "cell_type": "code",
   "execution_count": 4,
   "id": "3f9cab99",
   "metadata": {},
   "outputs": [],
   "source": [
    "df = pd.read_csv(\"/home/paula/Documents/exchange/MatRac/IJS/social_services-2.0.cvs\")"
   ]
  },
  {
   "cell_type": "markdown",
   "id": "bc53774d",
   "metadata": {},
   "source": [
    "# Basics"
   ]
  },
  {
   "cell_type": "code",
   "execution_count": 5,
   "id": "5415b960",
   "metadata": {},
   "outputs": [
    {
     "data": {
      "text/plain": [
       "Index(['Unnamed: 0', 'uuid', 'created', 'country', 'published', 'media',\n",
       "       'media_type', 'title', 'body'],\n",
       "      dtype='object')"
      ]
     },
     "execution_count": 5,
     "metadata": {},
     "output_type": "execute_result"
    }
   ],
   "source": [
    "df.columns"
   ]
  },
  {
   "cell_type": "code",
   "execution_count": 6,
   "id": "700fac03",
   "metadata": {},
   "outputs": [],
   "source": [
    "#the index column gets duplicated so remove it \n",
    "\n",
    "df.drop(df.columns[df.columns.str.contains(\n",
    "    'Unnamed', case=False)], axis=1, inplace=True)"
   ]
  },
  {
   "cell_type": "code",
   "execution_count": 7,
   "id": "2e859aa9",
   "metadata": {},
   "outputs": [
    {
     "name": "stdout",
     "output_type": "stream",
     "text": [
      "14487\n"
     ]
    },
    {
     "data": {
      "text/html": [
       "<div>\n",
       "<style scoped>\n",
       "    .dataframe tbody tr th:only-of-type {\n",
       "        vertical-align: middle;\n",
       "    }\n",
       "\n",
       "    .dataframe tbody tr th {\n",
       "        vertical-align: top;\n",
       "    }\n",
       "\n",
       "    .dataframe thead th {\n",
       "        text-align: right;\n",
       "    }\n",
       "</style>\n",
       "<table border=\"1\" class=\"dataframe\">\n",
       "  <thead>\n",
       "    <tr style=\"text-align: right;\">\n",
       "      <th></th>\n",
       "      <th>uuid</th>\n",
       "      <th>created</th>\n",
       "      <th>country</th>\n",
       "      <th>published</th>\n",
       "      <th>media</th>\n",
       "      <th>media_type</th>\n",
       "      <th>title</th>\n",
       "      <th>body</th>\n",
       "    </tr>\n",
       "  </thead>\n",
       "  <tbody>\n",
       "    <tr>\n",
       "      <th>0</th>\n",
       "      <td>29fee300-f8b6-11de-9f97-02000015df5b</td>\n",
       "      <td>2010-01-03 22:20:14+00:00</td>\n",
       "      <td>SI</td>\n",
       "      <td>2010-01-03 23:00:00+00:00</td>\n",
       "      <td>Primorske novice</td>\n",
       "      <td>print</td>\n",
       "      <td>Raketa ga je v oko</td>\n",
       "      <td>PRIMORSKA ► Nesreče kljub opozorilom - Najhuje...</td>\n",
       "    </tr>\n",
       "    <tr>\n",
       "      <th>1</th>\n",
       "      <td>e9be6400-f98c-11de-b1b0-020000594e15</td>\n",
       "      <td>2010-01-04 23:57:28+00:00</td>\n",
       "      <td>SI</td>\n",
       "      <td>2010-01-04 23:00:00+00:00</td>\n",
       "      <td>Večer</td>\n",
       "      <td>print</td>\n",
       "      <td>Zmeda z romskim pogrebom</td>\n",
       "      <td>Organiziranje desne civilne družbe na pokopali...</td>\n",
       "    </tr>\n",
       "    <tr>\n",
       "      <th>2</th>\n",
       "      <td>7886ad00-f99c-11de-a26b-020000972967</td>\n",
       "      <td>2010-01-05 01:48:50+00:00</td>\n",
       "      <td>SI</td>\n",
       "      <td>2010-01-04 23:00:00+00:00</td>\n",
       "      <td>Večer</td>\n",
       "      <td>print</td>\n",
       "      <td>Ko pozabiš, da si včeraj zažgal mleko...</td>\n",
       "      <td>Demenca pomeni v družbi nekaj negativnega in j...</td>\n",
       "    </tr>\n",
       "    <tr>\n",
       "      <th>3</th>\n",
       "      <td>6882d200-fa5d-11de-aeb4-020000c37e32</td>\n",
       "      <td>2010-01-06 00:49:56+00:00</td>\n",
       "      <td>SI</td>\n",
       "      <td>2010-01-05 23:00:00+00:00</td>\n",
       "      <td>Večer</td>\n",
       "      <td>print</td>\n",
       "      <td>Kam po krizi (1)</td>\n",
       "      <td>Dva dogodka sta povzročila, da smo pripravili ...</td>\n",
       "    </tr>\n",
       "    <tr>\n",
       "      <th>4</th>\n",
       "      <td>07232900-fa86-11de-885f-02000090fe75</td>\n",
       "      <td>2010-01-06 05:40:42+00:00</td>\n",
       "      <td>SI</td>\n",
       "      <td>2010-01-09 23:00:00+00:00</td>\n",
       "      <td>Nedeljski dnevnik</td>\n",
       "      <td>print</td>\n",
       "      <td>Le zakaj in za kaj delati</td>\n",
       "      <td>UGODNEJE JE IMETI SOCIALNO POMOČ KOT SLUŽBO Z ...</td>\n",
       "    </tr>\n",
       "  </tbody>\n",
       "</table>\n",
       "</div>"
      ],
      "text/plain": [
       "                                   uuid                    created country  \\\n",
       "0  29fee300-f8b6-11de-9f97-02000015df5b  2010-01-03 22:20:14+00:00      SI   \n",
       "1  e9be6400-f98c-11de-b1b0-020000594e15  2010-01-04 23:57:28+00:00      SI   \n",
       "2  7886ad00-f99c-11de-a26b-020000972967  2010-01-05 01:48:50+00:00      SI   \n",
       "3  6882d200-fa5d-11de-aeb4-020000c37e32  2010-01-06 00:49:56+00:00      SI   \n",
       "4  07232900-fa86-11de-885f-02000090fe75  2010-01-06 05:40:42+00:00      SI   \n",
       "\n",
       "                   published              media media_type  \\\n",
       "0  2010-01-03 23:00:00+00:00   Primorske novice      print   \n",
       "1  2010-01-04 23:00:00+00:00              Večer      print   \n",
       "2  2010-01-04 23:00:00+00:00              Večer      print   \n",
       "3  2010-01-05 23:00:00+00:00              Večer      print   \n",
       "4  2010-01-09 23:00:00+00:00  Nedeljski dnevnik      print   \n",
       "\n",
       "                                      title  \\\n",
       "0                        Raketa ga je v oko   \n",
       "1                  Zmeda z romskim pogrebom   \n",
       "2  Ko pozabiš, da si včeraj zažgal mleko...   \n",
       "3                          Kam po krizi (1)   \n",
       "4                 Le zakaj in za kaj delati   \n",
       "\n",
       "                                                body  \n",
       "0  PRIMORSKA ► Nesreče kljub opozorilom - Najhuje...  \n",
       "1  Organiziranje desne civilne družbe na pokopali...  \n",
       "2  Demenca pomeni v družbi nekaj negativnega in j...  \n",
       "3  Dva dogodka sta povzročila, da smo pripravili ...  \n",
       "4  UGODNEJE JE IMETI SOCIALNO POMOČ KOT SLUŽBO Z ...  "
      ]
     },
     "execution_count": 7,
     "metadata": {},
     "output_type": "execute_result"
    }
   ],
   "source": [
    "print(len(df))\n",
    "df.head()"
   ]
  },
  {
   "cell_type": "code",
   "execution_count": 8,
   "id": "3d192d38",
   "metadata": {},
   "outputs": [
    {
     "data": {
      "text/html": [
       "<div>\n",
       "<style scoped>\n",
       "    .dataframe tbody tr th:only-of-type {\n",
       "        vertical-align: middle;\n",
       "    }\n",
       "\n",
       "    .dataframe tbody tr th {\n",
       "        vertical-align: top;\n",
       "    }\n",
       "\n",
       "    .dataframe thead th {\n",
       "        text-align: right;\n",
       "    }\n",
       "</style>\n",
       "<table border=\"1\" class=\"dataframe\">\n",
       "  <thead>\n",
       "    <tr style=\"text-align: right;\">\n",
       "      <th></th>\n",
       "      <th>uuid</th>\n",
       "      <th>created</th>\n",
       "      <th>country</th>\n",
       "      <th>published</th>\n",
       "      <th>media</th>\n",
       "      <th>media_type</th>\n",
       "      <th>title</th>\n",
       "      <th>body</th>\n",
       "    </tr>\n",
       "  </thead>\n",
       "  <tbody>\n",
       "    <tr>\n",
       "      <th>count</th>\n",
       "      <td>14487</td>\n",
       "      <td>14487</td>\n",
       "      <td>14487</td>\n",
       "      <td>14487</td>\n",
       "      <td>14487</td>\n",
       "      <td>14487</td>\n",
       "      <td>14487</td>\n",
       "      <td>14487</td>\n",
       "    </tr>\n",
       "    <tr>\n",
       "      <th>unique</th>\n",
       "      <td>14487</td>\n",
       "      <td>14486</td>\n",
       "      <td>1</td>\n",
       "      <td>4182</td>\n",
       "      <td>12</td>\n",
       "      <td>2</td>\n",
       "      <td>14220</td>\n",
       "      <td>14487</td>\n",
       "    </tr>\n",
       "    <tr>\n",
       "      <th>top</th>\n",
       "      <td>29fee300-f8b6-11de-9f97-02000015df5b</td>\n",
       "      <td>2013-09-28 00:13:22+00:00</td>\n",
       "      <td>SI</td>\n",
       "      <td>2016-07-05 22:00:00+00:00</td>\n",
       "      <td>Večer</td>\n",
       "      <td>print</td>\n",
       "      <td>8 dni/teden</td>\n",
       "      <td>PRIMORSKA ► Nesreče kljub opozorilom - Najhuje...</td>\n",
       "    </tr>\n",
       "    <tr>\n",
       "      <th>freq</th>\n",
       "      <td>1</td>\n",
       "      <td>2</td>\n",
       "      <td>14487</td>\n",
       "      <td>17</td>\n",
       "      <td>3239</td>\n",
       "      <td>14486</td>\n",
       "      <td>10</td>\n",
       "      <td>1</td>\n",
       "    </tr>\n",
       "  </tbody>\n",
       "</table>\n",
       "</div>"
      ],
      "text/plain": [
       "                                        uuid                    created  \\\n",
       "count                                  14487                      14487   \n",
       "unique                                 14487                      14486   \n",
       "top     29fee300-f8b6-11de-9f97-02000015df5b  2013-09-28 00:13:22+00:00   \n",
       "freq                                       1                          2   \n",
       "\n",
       "       country                  published  media media_type        title  \\\n",
       "count    14487                      14487  14487      14487        14487   \n",
       "unique       1                       4182     12          2        14220   \n",
       "top         SI  2016-07-05 22:00:00+00:00  Večer      print  8 dni/teden   \n",
       "freq     14487                         17   3239      14486           10   \n",
       "\n",
       "                                                     body  \n",
       "count                                               14487  \n",
       "unique                                              14487  \n",
       "top     PRIMORSKA ► Nesreče kljub opozorilom - Najhuje...  \n",
       "freq                                                    1  "
      ]
     },
     "execution_count": 8,
     "metadata": {},
     "output_type": "execute_result"
    }
   ],
   "source": [
    "df.describe()"
   ]
  },
  {
   "cell_type": "code",
   "execution_count": 9,
   "id": "eb5c0805",
   "metadata": {},
   "outputs": [],
   "source": [
    "df[\"published\"] = pd.to_datetime(df[\"published\"])\n",
    "df[\"created\"] = pd.to_datetime(df[\"created\"])"
   ]
  },
  {
   "cell_type": "code",
   "execution_count": 10,
   "id": "946da317",
   "metadata": {},
   "outputs": [
    {
     "name": "stdout",
     "output_type": "stream",
     "text": [
      "2023-12-29 23:00:00+00:00\n",
      "2010-01-03 23:00:00+00:00\n"
     ]
    }
   ],
   "source": [
    "print(max(df[\"published\"]))\n",
    "print(min(df[\"published\"]))"
   ]
  },
  {
   "cell_type": "code",
   "execution_count": 11,
   "id": "4ace606f",
   "metadata": {},
   "outputs": [
    {
     "data": {
      "text/plain": [
       "False"
      ]
     },
     "execution_count": 11,
     "metadata": {},
     "output_type": "execute_result"
    }
   ],
   "source": [
    "df.isnull().values.any()"
   ]
  },
  {
   "cell_type": "code",
   "execution_count": 12,
   "id": "15024554",
   "metadata": {},
   "outputs": [
    {
     "data": {
      "text/html": [
       "<div>\n",
       "<style scoped>\n",
       "    .dataframe tbody tr th:only-of-type {\n",
       "        vertical-align: middle;\n",
       "    }\n",
       "\n",
       "    .dataframe tbody tr th {\n",
       "        vertical-align: top;\n",
       "    }\n",
       "\n",
       "    .dataframe thead th {\n",
       "        text-align: right;\n",
       "    }\n",
       "</style>\n",
       "<table border=\"1\" class=\"dataframe\">\n",
       "  <thead>\n",
       "    <tr style=\"text-align: right;\">\n",
       "      <th></th>\n",
       "      <th>uuid</th>\n",
       "      <th>created</th>\n",
       "      <th>country</th>\n",
       "      <th>published</th>\n",
       "      <th>media</th>\n",
       "      <th>media_type</th>\n",
       "      <th>title</th>\n",
       "      <th>body</th>\n",
       "    </tr>\n",
       "  </thead>\n",
       "  <tbody>\n",
       "    <tr>\n",
       "      <th>0</th>\n",
       "      <td>29fee300-f8b6-11de-9f97-02000015df5b</td>\n",
       "      <td>2010-01-03 22:20:14+00:00</td>\n",
       "      <td>SI</td>\n",
       "      <td>2010-01-03 23:00:00+00:00</td>\n",
       "      <td>Primorske novice</td>\n",
       "      <td>print</td>\n",
       "      <td>Raketa ga je v oko</td>\n",
       "      <td>PRIMORSKA ► Nesreče kljub opozorilom - Najhuje...</td>\n",
       "    </tr>\n",
       "    <tr>\n",
       "      <th>1</th>\n",
       "      <td>e9be6400-f98c-11de-b1b0-020000594e15</td>\n",
       "      <td>2010-01-04 23:57:28+00:00</td>\n",
       "      <td>SI</td>\n",
       "      <td>2010-01-04 23:00:00+00:00</td>\n",
       "      <td>Večer</td>\n",
       "      <td>print</td>\n",
       "      <td>Zmeda z romskim pogrebom</td>\n",
       "      <td>Organiziranje desne civilne družbe na pokopali...</td>\n",
       "    </tr>\n",
       "    <tr>\n",
       "      <th>2</th>\n",
       "      <td>7886ad00-f99c-11de-a26b-020000972967</td>\n",
       "      <td>2010-01-05 01:48:50+00:00</td>\n",
       "      <td>SI</td>\n",
       "      <td>2010-01-04 23:00:00+00:00</td>\n",
       "      <td>Večer</td>\n",
       "      <td>print</td>\n",
       "      <td>Ko pozabiš, da si včeraj zažgal mleko...</td>\n",
       "      <td>Demenca pomeni v družbi nekaj negativnega in j...</td>\n",
       "    </tr>\n",
       "    <tr>\n",
       "      <th>3</th>\n",
       "      <td>6882d200-fa5d-11de-aeb4-020000c37e32</td>\n",
       "      <td>2010-01-06 00:49:56+00:00</td>\n",
       "      <td>SI</td>\n",
       "      <td>2010-01-05 23:00:00+00:00</td>\n",
       "      <td>Večer</td>\n",
       "      <td>print</td>\n",
       "      <td>Kam po krizi (1)</td>\n",
       "      <td>Dva dogodka sta povzročila, da smo pripravili ...</td>\n",
       "    </tr>\n",
       "    <tr>\n",
       "      <th>4</th>\n",
       "      <td>07232900-fa86-11de-885f-02000090fe75</td>\n",
       "      <td>2010-01-06 05:40:42+00:00</td>\n",
       "      <td>SI</td>\n",
       "      <td>2010-01-09 23:00:00+00:00</td>\n",
       "      <td>Nedeljski dnevnik</td>\n",
       "      <td>print</td>\n",
       "      <td>Le zakaj in za kaj delati</td>\n",
       "      <td>UGODNEJE JE IMETI SOCIALNO POMOČ KOT SLUŽBO Z ...</td>\n",
       "    </tr>\n",
       "    <tr>\n",
       "      <th>...</th>\n",
       "      <td>...</td>\n",
       "      <td>...</td>\n",
       "      <td>...</td>\n",
       "      <td>...</td>\n",
       "      <td>...</td>\n",
       "      <td>...</td>\n",
       "      <td>...</td>\n",
       "      <td>...</td>\n",
       "    </tr>\n",
       "    <tr>\n",
       "      <th>14482</th>\n",
       "      <td>204a9b28-a524-11ee-b156-8135109a7851</td>\n",
       "      <td>2023-12-28 01:55:07.423000+00:00</td>\n",
       "      <td>SI</td>\n",
       "      <td>2023-12-27 23:00:00+00:00</td>\n",
       "      <td>Slovenske novice</td>\n",
       "      <td>print</td>\n",
       "      <td>Evropska sredstva za lažje zaposlovanje</td>\n",
       "      <td>Evropska sredstva za lažje zaposlovanje LJUBLJ...</td>\n",
       "    </tr>\n",
       "    <tr>\n",
       "      <th>14483</th>\n",
       "      <td>62b2c858-a529-11ee-b156-8135109a7851</td>\n",
       "      <td>2023-12-28 02:32:46.319000+00:00</td>\n",
       "      <td>SI</td>\n",
       "      <td>2023-12-27 23:00:00+00:00</td>\n",
       "      <td>Dnevnik</td>\n",
       "      <td>print</td>\n",
       "      <td>Molitev in njeni učinki</td>\n",
       "      <td>Molitev in njeni učinki O učinkih molitev ne b...</td>\n",
       "    </tr>\n",
       "    <tr>\n",
       "      <th>14484</th>\n",
       "      <td>c8acb211-a5d2-11ee-b653-2fe3bf8a9fb0</td>\n",
       "      <td>2023-12-28 22:45:22.354000+00:00</td>\n",
       "      <td>SI</td>\n",
       "      <td>2023-12-28 23:00:00+00:00</td>\n",
       "      <td>Večer</td>\n",
       "      <td>print</td>\n",
       "      <td>Begunec očitke o posilstvu zanika</td>\n",
       "      <td>TIHOTAPLJENJE LJUDI Begunec očitke o posilstvu...</td>\n",
       "    </tr>\n",
       "    <tr>\n",
       "      <th>14485</th>\n",
       "      <td>132c4df6-a5dd-11ee-b1f1-5be2a319a44f</td>\n",
       "      <td>2023-12-28 23:59:02.309000+00:00</td>\n",
       "      <td>SI</td>\n",
       "      <td>2023-12-28 23:00:00+00:00</td>\n",
       "      <td>Primorske novice</td>\n",
       "      <td>print</td>\n",
       "      <td>Dobro življenje</td>\n",
       "      <td>NEGOVANJE ODNOSOV Dobro življenje Kakšnih petn...</td>\n",
       "    </tr>\n",
       "    <tr>\n",
       "      <th>14486</th>\n",
       "      <td>126f119b-a699-11ee-b653-2fe3bf8a9fb0</td>\n",
       "      <td>2023-12-29 22:24:46.454000+00:00</td>\n",
       "      <td>SI</td>\n",
       "      <td>2023-12-29 23:00:00+00:00</td>\n",
       "      <td>Večer</td>\n",
       "      <td>print</td>\n",
       "      <td>Berača, ki naj bi bil trpinčil psa, preverila ...</td>\n",
       "      <td>NA ULICI Berača, ki naj bi bil trpinčil psa, p...</td>\n",
       "    </tr>\n",
       "  </tbody>\n",
       "</table>\n",
       "<p>14487 rows × 8 columns</p>\n",
       "</div>"
      ],
      "text/plain": [
       "                                       uuid                          created  \\\n",
       "0      29fee300-f8b6-11de-9f97-02000015df5b        2010-01-03 22:20:14+00:00   \n",
       "1      e9be6400-f98c-11de-b1b0-020000594e15        2010-01-04 23:57:28+00:00   \n",
       "2      7886ad00-f99c-11de-a26b-020000972967        2010-01-05 01:48:50+00:00   \n",
       "3      6882d200-fa5d-11de-aeb4-020000c37e32        2010-01-06 00:49:56+00:00   \n",
       "4      07232900-fa86-11de-885f-02000090fe75        2010-01-06 05:40:42+00:00   \n",
       "...                                     ...                              ...   \n",
       "14482  204a9b28-a524-11ee-b156-8135109a7851 2023-12-28 01:55:07.423000+00:00   \n",
       "14483  62b2c858-a529-11ee-b156-8135109a7851 2023-12-28 02:32:46.319000+00:00   \n",
       "14484  c8acb211-a5d2-11ee-b653-2fe3bf8a9fb0 2023-12-28 22:45:22.354000+00:00   \n",
       "14485  132c4df6-a5dd-11ee-b1f1-5be2a319a44f 2023-12-28 23:59:02.309000+00:00   \n",
       "14486  126f119b-a699-11ee-b653-2fe3bf8a9fb0 2023-12-29 22:24:46.454000+00:00   \n",
       "\n",
       "      country                 published              media media_type  \\\n",
       "0          SI 2010-01-03 23:00:00+00:00   Primorske novice      print   \n",
       "1          SI 2010-01-04 23:00:00+00:00              Večer      print   \n",
       "2          SI 2010-01-04 23:00:00+00:00              Večer      print   \n",
       "3          SI 2010-01-05 23:00:00+00:00              Večer      print   \n",
       "4          SI 2010-01-09 23:00:00+00:00  Nedeljski dnevnik      print   \n",
       "...       ...                       ...                ...        ...   \n",
       "14482      SI 2023-12-27 23:00:00+00:00   Slovenske novice      print   \n",
       "14483      SI 2023-12-27 23:00:00+00:00            Dnevnik      print   \n",
       "14484      SI 2023-12-28 23:00:00+00:00              Večer      print   \n",
       "14485      SI 2023-12-28 23:00:00+00:00   Primorske novice      print   \n",
       "14486      SI 2023-12-29 23:00:00+00:00              Večer      print   \n",
       "\n",
       "                                                   title  \\\n",
       "0                                     Raketa ga je v oko   \n",
       "1                               Zmeda z romskim pogrebom   \n",
       "2               Ko pozabiš, da si včeraj zažgal mleko...   \n",
       "3                                       Kam po krizi (1)   \n",
       "4                              Le zakaj in za kaj delati   \n",
       "...                                                  ...   \n",
       "14482            Evropska sredstva za lažje zaposlovanje   \n",
       "14483                            Molitev in njeni učinki   \n",
       "14484                  Begunec očitke o posilstvu zanika   \n",
       "14485                                    Dobro življenje   \n",
       "14486  Berača, ki naj bi bil trpinčil psa, preverila ...   \n",
       "\n",
       "                                                    body  \n",
       "0      PRIMORSKA ► Nesreče kljub opozorilom - Najhuje...  \n",
       "1      Organiziranje desne civilne družbe na pokopali...  \n",
       "2      Demenca pomeni v družbi nekaj negativnega in j...  \n",
       "3      Dva dogodka sta povzročila, da smo pripravili ...  \n",
       "4      UGODNEJE JE IMETI SOCIALNO POMOČ KOT SLUŽBO Z ...  \n",
       "...                                                  ...  \n",
       "14482  Evropska sredstva za lažje zaposlovanje LJUBLJ...  \n",
       "14483  Molitev in njeni učinki O učinkih molitev ne b...  \n",
       "14484  TIHOTAPLJENJE LJUDI Begunec očitke o posilstvu...  \n",
       "14485  NEGOVANJE ODNOSOV Dobro življenje Kakšnih petn...  \n",
       "14486  NA ULICI Berača, ki naj bi bil trpinčil psa, p...  \n",
       "\n",
       "[14487 rows x 8 columns]"
      ]
     },
     "execution_count": 12,
     "metadata": {},
     "output_type": "execute_result"
    }
   ],
   "source": [
    "#the created and published columns are different in every row so no need to remove either\n",
    "\n",
    "df[df[\"created\"] != df[\"published\"]]"
   ]
  },
  {
   "cell_type": "code",
   "execution_count": 14,
   "id": "95c6981f",
   "metadata": {},
   "outputs": [
    {
     "data": {
      "text/plain": [
       "array(['Primorske novice', 'Večer', 'Nedeljski dnevnik',\n",
       "       'Slovenske novice', 'Delo', 'Dnevnik', 'Nedelo', 'Mladina',\n",
       "       'Delo - Sobotna priloga', 'Ona plus', 'Svet24', '24ur.com'],\n",
       "      dtype=object)"
      ]
     },
     "execution_count": 14,
     "metadata": {},
     "output_type": "execute_result"
    }
   ],
   "source": [
    "df[\"media\"].unique()"
   ]
  },
  {
   "cell_type": "code",
   "execution_count": 15,
   "id": "8bdd2ffd",
   "metadata": {},
   "outputs": [
    {
     "name": "stdout",
     "output_type": "stream",
     "text": [
      "1\n"
     ]
    },
    {
     "data": {
      "text/plain": [
       "14486"
      ]
     },
     "execution_count": 15,
     "metadata": {},
     "output_type": "execute_result"
    }
   ],
   "source": [
    "#only one article is from the internet with all the rest being printed press\n",
    "\n",
    "print(len(df[df[\"media_type\"] == \"internet\"]))\n",
    "len(df[df[\"media_type\"] == \"print\"])"
   ]
  },
  {
   "cell_type": "markdown",
   "id": "a731ca38",
   "metadata": {},
   "source": [
    "# Duplicates"
   ]
  },
  {
   "cell_type": "code",
   "execution_count": 14,
   "id": "3b18a875",
   "metadata": {
    "scrolled": true
   },
   "outputs": [
    {
     "data": {
      "text/plain": [
       "0"
      ]
     },
     "execution_count": 14,
     "metadata": {},
     "output_type": "execute_result"
    }
   ],
   "source": [
    "#there are no aricles that have a duplicate \n",
    "\n",
    "len(df[df[\"body\"].duplicated() == True])"
   ]
  },
  {
   "cell_type": "code",
   "execution_count": 15,
   "id": "639d60e0",
   "metadata": {},
   "outputs": [],
   "source": [
    "#drop the duplicate articles as instructed by specialist\n",
    "\n",
    "#df.drop(df.index[df[df[\"body\"].duplicated() == True].index.to_list()])"
   ]
  },
  {
   "cell_type": "code",
   "execution_count": 16,
   "id": "7843e988",
   "metadata": {},
   "outputs": [
    {
     "data": {
      "text/plain": [
       "RangeIndex(start=0, stop=14487, step=1)"
      ]
     },
     "execution_count": 16,
     "metadata": {},
     "output_type": "execute_result"
    }
   ],
   "source": [
    "df.index"
   ]
  },
  {
   "cell_type": "code",
   "execution_count": 17,
   "id": "9c14cd02",
   "metadata": {},
   "outputs": [
    {
     "data": {
      "text/plain": [
       "267"
      ]
     },
     "execution_count": 17,
     "metadata": {},
     "output_type": "execute_result"
    }
   ],
   "source": [
    "#at the same time there are many titles with duplicates\n",
    "\n",
    "len(df[df[\"title\"].duplicated() == True])"
   ]
  },
  {
   "cell_type": "code",
   "execution_count": 18,
   "id": "c6d2408c",
   "metadata": {
    "scrolled": false
   },
   "outputs": [
    {
     "data": {
      "text/plain": [
       "177"
      ]
     },
     "execution_count": 18,
     "metadata": {},
     "output_type": "execute_result"
    }
   ],
   "source": [
    "#how many unique title names with duplicates\n",
    "\n",
    "len(df[df[\"title\"].duplicated() == True][\"title\"].unique())"
   ]
  },
  {
   "cell_type": "code",
   "execution_count": 19,
   "id": "1b2b2d7b",
   "metadata": {},
   "outputs": [
    {
     "data": {
      "text/plain": [
       "10305"
      ]
     },
     "execution_count": 19,
     "metadata": {},
     "output_type": "execute_result"
    }
   ],
   "source": [
    "#some articles have been published at the same time but it doesn't have to be they are the same articles\n",
    "\n",
    "len(df[df[\"published\"].duplicated() == True])"
   ]
  },
  {
   "cell_type": "code",
   "execution_count": 20,
   "id": "77ff5951",
   "metadata": {
    "scrolled": true
   },
   "outputs": [
    {
     "data": {
      "text/html": [
       "<div>\n",
       "<style scoped>\n",
       "    .dataframe tbody tr th:only-of-type {\n",
       "        vertical-align: middle;\n",
       "    }\n",
       "\n",
       "    .dataframe tbody tr th {\n",
       "        vertical-align: top;\n",
       "    }\n",
       "\n",
       "    .dataframe thead th {\n",
       "        text-align: right;\n",
       "    }\n",
       "</style>\n",
       "<table border=\"1\" class=\"dataframe\">\n",
       "  <thead>\n",
       "    <tr style=\"text-align: right;\">\n",
       "      <th></th>\n",
       "      <th>uuid</th>\n",
       "      <th>created</th>\n",
       "      <th>country</th>\n",
       "      <th>published</th>\n",
       "      <th>media</th>\n",
       "      <th>media_type</th>\n",
       "      <th>title</th>\n",
       "      <th>body</th>\n",
       "    </tr>\n",
       "  </thead>\n",
       "  <tbody>\n",
       "  </tbody>\n",
       "</table>\n",
       "</div>"
      ],
      "text/plain": [
       "Empty DataFrame\n",
       "Columns: [uuid, created, country, published, media, media_type, title, body]\n",
       "Index: []"
      ]
     },
     "execution_count": 20,
     "metadata": {},
     "output_type": "execute_result"
    }
   ],
   "source": [
    "#no duplicates have the same values in other columns and the dataframe itself does not have row duplicates \n",
    "\n",
    "df[df[[\"country\", \"published\", \"media\", \"media_type\", \"title\", \"body\"]].duplicated() == True]"
   ]
  },
  {
   "cell_type": "code",
   "execution_count": 21,
   "id": "ae485ff9",
   "metadata": {},
   "outputs": [],
   "source": [
    "df['title'] = df['title'].map(lambda x: x.lower())\n",
    "df['body'] = df['body'].map(lambda x: x.lower())"
   ]
  },
  {
   "cell_type": "code",
   "execution_count": 22,
   "id": "6e301c30",
   "metadata": {},
   "outputs": [
    {
     "name": "stdout",
     "output_type": "stream",
     "text": [
      "0\n"
     ]
    },
    {
     "data": {
      "text/plain": [
       "0"
      ]
     },
     "execution_count": 22,
     "metadata": {},
     "output_type": "execute_result"
    }
   ],
   "source": [
    "print(len(df[df[\"title\"] == \"pomembne številke\"]))\n",
    "len(df[df[\"title\"] == \"ne\"])"
   ]
  },
  {
   "cell_type": "code",
   "execution_count": 23,
   "id": "ef17ffa4",
   "metadata": {
    "scrolled": true
   },
   "outputs": [],
   "source": [
    "tit = []\n",
    "for title in df[df[\"title\"].duplicated() == True][\"title\"].unique():\n",
    "    tit.append(title)"
   ]
  },
  {
   "cell_type": "code",
   "execution_count": 24,
   "id": "56c8fd65",
   "metadata": {
    "scrolled": true
   },
   "outputs": [],
   "source": [
    "indices = []\n",
    "for i in tit:\n",
    "    indices.append(df[df[\"title\"] == i].index.to_list())"
   ]
  },
  {
   "cell_type": "code",
   "execution_count": 25,
   "id": "2beb3fed",
   "metadata": {},
   "outputs": [],
   "source": [
    "dup_titles = pd.DataFrame(columns=[\"title\", \"indices\"])\n",
    "dup_titles[\"title\"] = tit\n",
    "dup_titles[\"indices\"] = indices"
   ]
  },
  {
   "cell_type": "code",
   "execution_count": 26,
   "id": "5bad4f65",
   "metadata": {},
   "outputs": [],
   "source": [
    "dup_titles.to_csv(\"titles_duplicate.csv\")"
   ]
  },
  {
   "cell_type": "code",
   "execution_count": 27,
   "id": "9abf66c0",
   "metadata": {},
   "outputs": [
    {
     "data": {
      "text/plain": [
       "183"
      ]
     },
     "execution_count": 27,
     "metadata": {},
     "output_type": "execute_result"
    }
   ],
   "source": [
    "len(df[df[\"title\"].duplicated() == True][\"title\"].unique())"
   ]
  },
  {
   "cell_type": "markdown",
   "id": "e286c367",
   "metadata": {},
   "source": [
    "# Plots\n"
   ]
  },
  {
   "cell_type": "code",
   "execution_count": 28,
   "id": "10970b32",
   "metadata": {},
   "outputs": [],
   "source": [
    "df[\"year\"] = [date.year for date in df[\"published\"]]"
   ]
  },
  {
   "cell_type": "code",
   "execution_count": 29,
   "id": "3ca741b0",
   "metadata": {},
   "outputs": [],
   "source": [
    "counts = df.groupby([\"year\"])[\"body\"].count()"
   ]
  },
  {
   "cell_type": "code",
   "execution_count": 30,
   "id": "c4a8ca16",
   "metadata": {},
   "outputs": [
    {
     "data": {
      "image/png": "[encoded data removed]",
      "text/plain": [
       "<Figure size 1080x720 with 1 Axes>"
      ]
     },
     "metadata": {
      "needs_background": "light"
     },
     "output_type": "display_data"
    }
   ],
   "source": [
    "yrs_sorted = [\"2010\", \"2011\", \"2012\", \"2013\", \"2014\", \"2015\", \"2016\", \"2017\", \"2018\", \"2019\", \"2020\", \"2021\", \"2022\", \"2023\"]\n",
    "plt.figure(figsize=(15, 10))\n",
    "plt.bar(yrs_sorted, counts)\n",
    "plt.title(\"Number of articles written\", size=20)\n",
    "plt.xlabel(\"Publishing year\", size=15);"
   ]
  },
  {
   "cell_type": "code",
   "execution_count": 31,
   "id": "c627bafd",
   "metadata": {},
   "outputs": [],
   "source": [
    "publisher_counts = df.groupby([\"media\"])[\"body\"].count()"
   ]
  },
  {
   "cell_type": "code",
   "execution_count": 32,
   "id": "af38d8b2",
   "metadata": {},
   "outputs": [
    {
     "data": {
      "text/plain": [
       "['24ur.com',\n",
       " 'Delo',\n",
       " 'Delo - Sobotna priloga',\n",
       " 'Dnevnik',\n",
       " 'Mladina',\n",
       " 'Nedeljski dnevnik',\n",
       " 'Nedelo',\n",
       " 'Ona plus',\n",
       " 'Primorske novice',\n",
       " 'Slovenske novice',\n",
       " 'Svet24',\n",
       " 'Večer']"
      ]
     },
     "execution_count": 32,
     "metadata": {},
     "output_type": "execute_result"
    }
   ],
   "source": [
    "publisher_counts.index.to_list()"
   ]
  },
  {
   "cell_type": "code",
   "execution_count": 33,
   "id": "3a8a0421",
   "metadata": {
    "scrolled": false
   },
   "outputs": [
    {
     "data": {
      "image/png": "[encoded data removed]",
      "text/plain": [
       "<Figure size 1080x720 with 1 Axes>"
      ]
     },
     "metadata": {
      "needs_background": "light"
     },
     "output_type": "display_data"
    }
   ],
   "source": [
    "plt.figure(figsize=(15, 10))\n",
    "plt.bar(publisher_counts.sort_values().index.to_list(), publisher_counts.sort_values())\n",
    "plt.title(\"Number of articles written\", size=20)\n",
    "plt.xlabel(\"Publishing media\", size=15)\n",
    "plt.xticks(rotation=40, ha=\"right\");"
   ]
  },
  {
   "cell_type": "code",
   "execution_count": 34,
   "id": "a132b905",
   "metadata": {},
   "outputs": [],
   "source": [
    "media = df[\"media\"].unique()\n",
    "yrs = df[\"year\"].unique()"
   ]
  },
  {
   "cell_type": "code",
   "execution_count": 35,
   "id": "86e9d143",
   "metadata": {},
   "outputs": [],
   "source": [
    "media_counts = df.groupby([\"media\", \"year\"])[\"body\"].count()"
   ]
  },
  {
   "cell_type": "markdown",
   "id": "2e49b900",
   "metadata": {},
   "source": [
    "Groupby doesn't make all the groups of equal length so we have to fix that manually for the media that does not have articles in some years."
   ]
  },
  {
   "cell_type": "code",
   "execution_count": 36,
   "id": "7dfd1d0d",
   "metadata": {},
   "outputs": [],
   "source": [
    "ona_counts = [0, 0]\n",
    "for item in df[df[\"media\"] == \"Ona plus\"].groupby([\"year\"])[\"body\"].count().to_list():\n",
    "    ona_counts.append(item)\n",
    "svet_counts = [0, 0, 0]\n",
    "for item in df[df[\"media\"] == \"Svet24\"].groupby([\"year\"])[\"body\"].count().to_list():\n",
    "    svet_counts.append(item)\n",
    "tf_counts = [0, 0, 0, 0, 0, 0, 0, 0, 0]\n",
    "for item in df[df[\"media\"] == \"24ur.com\"].groupby([\"year\"])[\"body\"].count().to_list():\n",
    "    tf_counts.append(item)\n",
    "for i in range(4):\n",
    "    tf_counts.append(0)"
   ]
  },
  {
   "cell_type": "code",
   "execution_count": 37,
   "id": "5d441faa",
   "metadata": {},
   "outputs": [
    {
     "data": {
      "text/plain": [
       "[0, 0, 0, 0, 0, 0, 0, 0, 0, 1, 0, 0, 0, 0]"
      ]
     },
     "execution_count": 37,
     "metadata": {},
     "output_type": "execute_result"
    }
   ],
   "source": [
    "tf_counts"
   ]
  },
  {
   "cell_type": "code",
   "execution_count": 38,
   "id": "9710e4fc",
   "metadata": {},
   "outputs": [
    {
     "data": {
      "image/png": "[encoded data removed]",
      "text/plain": [
       "<Figure size 1080x720 with 12 Axes>"
      ]
     },
     "metadata": {
      "needs_background": "light"
     },
     "output_type": "display_data"
    }
   ],
   "source": [
    "fig, axs = plt.subplots(2, 6, figsize=(15, 10))\n",
    "for i in range(9):\n",
    "    axs[i//6, i%6].bar(yrs, media_counts[media[i]])\n",
    "    axs[i//6, i%6].set_ylim(bottom=0, top=350)\n",
    "    axs[i//6, i%6].set_xlabel(media[i])\n",
    "axs[1, 3].bar(yrs, ona_counts)\n",
    "axs[1, 3].set_ylim(bottom=0, top=350)\n",
    "axs[1, 3].set_xlabel(\"Ona plus\")\n",
    "axs[1, 4].bar(yrs, svet_counts)\n",
    "axs[1, 4].set_ylim(bottom=0, top=350)\n",
    "axs[1, 4].set_xlabel(\"Svet 24\")\n",
    "axs[1, 5].bar(yrs, tf_counts)\n",
    "axs[1, 5].set_ylim(bottom=0, top=350)\n",
    "axs[1, 5].set_xlabel(\"24ur.com\")\n",
    "fig.suptitle(\"Number of articles written\", size=15);"
   ]
  },
  {
   "cell_type": "markdown",
   "id": "9bdb9add",
   "metadata": {},
   "source": [
    "# Titles"
   ]
  },
  {
   "cell_type": "markdown",
   "id": "160eda53",
   "metadata": {},
   "source": [
    "Let's see an example of a weird title."
   ]
  },
  {
   "cell_type": "code",
   "execution_count": 44,
   "id": "c885153c",
   "metadata": {},
   "outputs": [],
   "source": [
    "#df[df[\"title\"] == \"ujeti v preteklost\"][\"body\"][666]"
   ]
  },
  {
   "cell_type": "markdown",
   "id": "d0e80d55",
   "metadata": {},
   "source": [
    "These are all just parts of a fiction novel that have nothing to do with the news."
   ]
  },
  {
   "cell_type": "code",
   "execution_count": 45,
   "id": "a9207e64",
   "metadata": {},
   "outputs": [],
   "source": [
    "#for i in df[df[\"title\"] == \"ujeti v preteklost\"][\"body\"]:\n",
    " #   print(i[:100])\n",
    "    \n",
    "#these are actually chapters of a fiction novel from Harlan Coben"
   ]
  },
  {
   "cell_type": "markdown",
   "id": "6b654dd3",
   "metadata": {},
   "source": [
    "Some of these titles that have duplicates signify articles which are similar but not exactly the same (due to extra characters or some small changes) so they have not been deleted before. Nevertheless, we still need to delete them because they do not provide any extra information."
   ]
  },
  {
   "cell_type": "markdown",
   "id": "d24fda97",
   "metadata": {},
   "source": [
    "Nikola said to delete articles titles \"Prva stran\" or \"Naslovna stran\" because they contain just the oeverview of what is in the news. "
   ]
  },
  {
   "cell_type": "code",
   "execution_count": 46,
   "id": "90980574",
   "metadata": {},
   "outputs": [
    {
     "name": "stdout",
     "output_type": "stream",
     "text": [
      "0\n"
     ]
    },
    {
     "data": {
      "text/plain": [
       "0"
      ]
     },
     "execution_count": 46,
     "metadata": {},
     "output_type": "execute_result"
    }
   ],
   "source": [
    "print(len(df[df[\"title\"].str.contains(\"prva stran\")][\"body\"]))\n",
    "len(df[df[\"title\"].str.contains(\"naslovna stran\")][\"body\"])"
   ]
  },
  {
   "cell_type": "markdown",
   "id": "b177c14c",
   "metadata": {},
   "source": [
    "No more titles with Ne or Pomembne Številke and also no more of the previously discovered \"weird\" ones. It is easier to continue now. "
   ]
  },
  {
   "cell_type": "markdown",
   "id": "6237695f",
   "metadata": {},
   "source": [
    "# Pre-processing"
   ]
  },
  {
   "cell_type": "code",
   "execution_count": 39,
   "id": "b8f68404",
   "metadata": {},
   "outputs": [],
   "source": [
    "df['body'] = df['body'].map(lambda x: re.sub(r'[^\\w\\s]', '', x))\n",
    "df['body'] = df['body'].map(lambda x: re.sub(r'[0-9]+', '', x))"
   ]
  },
  {
   "cell_type": "code",
   "execution_count": 47,
   "id": "414d1433",
   "metadata": {},
   "outputs": [
    {
     "name": "stdout",
     "output_type": "stream",
     "text": [
      "['arabic', 'azerbaijani', 'basque', 'bengali', 'catalan', 'chinese', 'danish', 'dutch', 'english', 'finnish', 'french', 'german', 'greek', 'hebrew', 'hinglish', 'hungarian', 'indonesian', 'italian', 'kazakh', 'nepali', 'norwegian', 'portuguese', 'romanian', 'russian', 'slovene', 'spanish', 'swedish', 'tajik', 'turkish']\n"
     ]
    }
   ],
   "source": [
    "#nltk has Slovene stopwords list\n",
    "\n",
    "from nltk.corpus import stopwords\n",
    "print(stopwords.fileids())"
   ]
  },
  {
   "cell_type": "code",
   "execution_count": 48,
   "id": "f6016859",
   "metadata": {},
   "outputs": [
    {
     "name": "stderr",
     "output_type": "stream",
     "text": [
      "[nltk_data] Downloading package stopwords to /home/paula/nltk_data...\n",
      "[nltk_data]   Package stopwords is already up-to-date!\n"
     ]
    }
   ],
   "source": [
    "nltk.download(\"stopwords\")\n",
    "\n",
    "stop_words = stopwords.words(\"slovene\")\n",
    "df['clean'] = df['body'].apply(lambda x: ' '.join([word for word in x.split() if word not in (stop_words)]))"
   ]
  },
  {
   "cell_type": "code",
   "execution_count": 49,
   "id": "abaf1916",
   "metadata": {},
   "outputs": [],
   "source": [
    "#doing this again with the cleaned text\n",
    "\n",
    "df[\"tokenized\"] = [nltk.word_tokenize(df[\"clean\"][i]) for i in range(len(df))]"
   ]
  },
  {
   "cell_type": "code",
   "execution_count": 60,
   "id": "33510b1f",
   "metadata": {},
   "outputs": [],
   "source": [
    "#aux = pd.DataFrame(columns=[\"year\", \"len\"])\n",
    "#auxy = []\n",
    "#auxl = []\n",
    "\n",
    "#for i in range(len(df[\"year\"].unique())):\n",
    "#    yr = df[\"year\"].unique()[i]\n",
    "#    auxy.append(yr)\n",
    "#    arts = [len(j) for j in df[df[\"year\"] == yr][\"tokenized\"]]\n",
    "#    auxl.append(sum(arts)/len(arts))\n",
    "    \n",
    "#aux[\"year\"] = auxy\n",
    "#aux[\"len\"] = auxl"
   ]
  },
  {
   "cell_type": "code",
   "execution_count": 61,
   "id": "b4e19c25",
   "metadata": {},
   "outputs": [],
   "source": [
    "#plt.figure(figsize=(15, 10))\n",
    "#plt.bar(auxy, auxl)\n",
    "#plt.title(\"Average length of articles (expressed in tokens)\", size=20)\n",
    "#plt.xlabel(\"Publishing year\", size=15);"
   ]
  },
  {
   "cell_type": "code",
   "execution_count": 52,
   "id": "9bb53cd7",
   "metadata": {},
   "outputs": [],
   "source": [
    "df.drop(index=11020, inplace=True)\n",
    "#removing the 24ur web article"
   ]
  },
  {
   "cell_type": "code",
   "execution_count": 54,
   "id": "1894af1e",
   "metadata": {},
   "outputs": [],
   "source": [
    "df.to_csv(\"Corpus.csv\")"
   ]
  }
 ],
 "metadata": {
  "kernelspec": {
   "display_name": "Python 3 (ipykernel)",
   "language": "python",
   "name": "python3"
  },
  "language_info": {
   "codemirror_mode": {
    "name": "ipython",
    "version": 3
   },
   "file_extension": ".py",
   "mimetype": "text/x-python",
   "name": "python",
   "nbconvert_exporter": "python",
   "pygments_lexer": "ipython3",
   "version": "3.10.4"
  }
 },
 "nbformat": 4,
 "nbformat_minor": 5
}
